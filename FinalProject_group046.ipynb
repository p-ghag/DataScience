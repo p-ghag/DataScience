{
 "cells": [
  {
   "cell_type": "markdown",
   "metadata": {},
   "source": [
    "# COGS 108 - Final Project (change this to your project's title)"
   ]
  },
  {
   "cell_type": "markdown",
   "metadata": {},
   "source": [
    "## Permissions\n",
    "\n",
    "Place an `X` in the appropriate bracket below to specify if you would like your group's project to be made available to the public. (Note that student names will be included (but PIDs will be scraped from any groups who include their PIDs).\n",
    "\n",
    "* [  ] YES - make available\n",
    "* [  ] NO - keep private"
   ]
  },
  {
   "cell_type": "markdown",
   "metadata": {},
   "source": [
    "# Overview"
   ]
  },
  {
   "cell_type": "markdown",
   "metadata": {},
   "source": [
    "*Fill in your overview here*"
   ]
  },
  {
   "cell_type": "markdown",
   "metadata": {},
   "source": [
    "# Names\n",
    "\n",
    "- Sharon Chen\n",
    "- Pamela Ghag\n",
    "- Yuzi Chu\n",
    "- Cheng Chang\n",
    "- Stanley Hahm"
   ]
  },
  {
   "cell_type": "markdown",
   "metadata": {},
   "source": [
    "<a id='research_question'></a>\n",
    "# Research Question"
   ]
  },
  {
   "cell_type": "markdown",
   "metadata": {},
   "source": [
    "Are there significant differences among courses under the Humanities, Social Science, and STEM departments at UCSD in terms of correlation between course difficulty and teachers’ ratings given through UCSD's official student-feedback platform, CAPE?"
   ]
  },
  {
   "cell_type": "markdown",
   "metadata": {},
   "source": [
    "<a id='background'></a>\n",
    "\n",
    "## Background & Prior Work"
   ]
  },
  {
   "cell_type": "markdown",
   "metadata": {},
   "source": [
    "Our interest in this question stems from the shared experience of using the university's official student-feedback platform, CAPE, to get a basic understanding of certain classes (e.g. how difficult any one can be) and the teaching style of a professor. CAPE allows students to give feedback and ratings to their education, while also informing the incoming class of students about how rigorous the workload can get for a particular course. Needless to say, students who observe these metrics can then get a broad overview of how a particular class could impact their educational experience for any relevant quarter at UCSD and thus decide whether or not to enroll. Given the potency of influence student feedback can have when it comes to how a particular course or instructor is perceived, it was especially important for us to study exactly which primary variables actually go into predicting whether or not a student is likely to recommend a particular professor, or at least grant him/her a favorable rating. \n",
    "\n",
    "This topic has been previously discussed by researchers. In a paper jointly published by Justin Esarey and Natalie Valdes, entitled \"Unbiased, reliable, and valid student evaluations can still be unfair,\" the researchers used computational simulation \"to show that, under ideal circumstances, even careful and judicious use of SETs [student evaluations of teaching] to assess faculty can produce an unacceptably high error rate... a large difference in SET scores *fails* to reliably identify the best teacher in a pairwise comparison\"(1). The far-reaching implications of such biased outcomes are further highlighted in Colleen Flaherty’s blog on Inside Higher Ed, \"Study: Student evaluations of teaching are deeply flawed,\" as she indicates that the danger of such biased evaluations lays in the institution's heightened proclivity to \"punish\" professors marginalized by arbitrarily unfavorable ratings to teach unpopular courses (2).\n",
    "\n",
    "Therefore, understanding what factors impact instructors' ratings, as well as the possible biases present in such determinations are essential to both educators and students. With this in mind, we would like to investigate the question at a more micro-level, such that we are not simply looking for a correlation overall between course difficulty and instructors' rating, but rather we wish to compare the extent to which this correlation is held across different departments. To reiterate our question once more, we aim to ask: Are there significant differences among courses under the Humanities, Social Science, and STEM departments at UCSD in terms of correlation between course difficulty and teachers’ ratings given through UCSD's official student-feedback platform, CAPE? \n",
    "\n",
    "To arrive at an efficacious conclusion, we plan to compare the correlations between course difficulty and teachers' ratings for Humanities, Social Science, and STEM-focused courses. Using CAPE data, we intend to define course difficulty as the interaction between the average GPA received in a particular class and the number of hours spent studying for it. Likewise, we intend to determine teachers' ratings through the percentage of students who recommend the instructor for future iterations of a particular course (i.e. high percentage of recommendations = high rating; lower percentage of recommendations = low rating). \n",
    "\n",
    "With these metrics, our goal is to observe whether the correlation between course difficulty and teachers’ ratings holds constant across the Social Sciences, STEM, and Humanities departments, or if it is evaluated to be stronger/weaker for one department over another.\n",
    "\n",
    "As a first step, we hand-picked some field of studies offered at UCSD and listed them into three categories:\n",
    "\n",
    "__STEM__: Biology, Chemistry, Computer Science, Data Science, Mathematics, Physics, All Engineering;\n",
    "\n",
    "__Social Science__: Political Science, Sociology, Psychology, Cognitive Science, Economics; \n",
    "\n",
    "__Humanities__: Fine Arts, Literature, Language Studies, Theatre, Film, English, Philosophy, Visual Arts, History\n",
    "\n",
    "*NOTE: the list of courses representing each department at UCSD here are based on their designations within each department's website*\n",
    "\n",
    "References:\n",
    "\n",
    "(1) https://www.tandfonline.com/eprint/IMZDUUHTHCEDD4Q9VZYB/full?target=10.1080%2F02602938.2020.1724875&\n",
    "\n",
    "(2) https://www.insidehighered.com/news/2020/02/27/study-student-evaluations-teaching-are-deeply-flawed"
   ]
  },
  {
   "cell_type": "markdown",
   "metadata": {},
   "source": [
    "# Hypothesis\n"
   ]
  },
  {
   "cell_type": "markdown",
   "metadata": {},
   "source": [
    "We hypothesize that the professor rating will have a higher correlation with the difficulty level of the class for courses within the STEM department as opposed to those within the Humanities or Social Science departments."
   ]
  },
  {
   "cell_type": "markdown",
   "metadata": {},
   "source": [
    "# Dataset"
   ]
  },
  {
   "cell_type": "markdown",
   "metadata": {},
   "source": [
    "__Dataset Name__: CAPE\n",
    "\n",
    "__Link to the dataset__: https://raw.githubusercontent.com/dcao/seascape/master/data/data.csv\n",
    "\n",
    "__Number of observations__: 51281 rows (pre-data cleaning)\n",
    "\n",
    "__Description__: The CAPE dataset includes information on the professor teaching the course; the course name itself; the quarter in which the course was taken; average GPA received by students; percentage of students that recommend the professor; average GPA expected by students; and the field of study the course is categorized under. The raw dataset includes observations from Fall Quarter 2007 up to and including Spring Quarter 2020.\n",
    "\n",
    "Each observation has the following columns:\n",
    "\n",
    "- instr: instructor name\n",
    "\n",
    "- course: course name\n",
    "\n",
    "- term: school term\n",
    "\n",
    "- enrolled: number of students enrolled\n",
    "\n",
    "- evals: number of students evaluated\n",
    "\n",
    "- recClass: percentage of students who recommend the class\n",
    "\n",
    "- __recInstr: percentage of students who recommend the instructor__\n",
    "\n",
    "- __hours: estimated hours spent per week to study for the course__\n",
    "\n",
    "- gpaExp: average GPA *expected* by the students \n",
    "\n",
    "- __gpaAvg: average GPA actually *received* by the students__\n",
    "\n",
    "We will be using gpaAvg and hours as our primary predictor variables in our multivariate model that aims to output values for our outcome variable, recInstr. This will effectively allow us to analyze the magnitude of correlation between course difficulty (indicated through gpaAvg and hours) and professor rating (indicated through recInstr) for each of the Humanities, Social Sciences, and STEM-focused departments. \n",
    "\n",
    "As we are measuring course difficulty in terms of average GPA (e.g higher average GPA = lower difficulty, lower average GPA = higher difficulty), we decided to remove any observations that contain a null value in the average GPA column, as they would not contribute to helping us reach a conclusion. We will also be dropping observations from Winter Quarter 2020 and Spring Quarter 2020, as classes during this period were taken during the pandemic, and it would not be an objective indication of the professors capabilities as a teacher due to the extreme and sudden modifications of teaching styles required during these times, as well as the overall challenges experienced by students in their personal lives as a result of the pandemic (e.g. debilitated mental health, family sickness/deaths, etc)."
   ]
  },
  {
   "cell_type": "markdown",
   "metadata": {},
   "source": [
    "# Setup"
   ]
  },
  {
   "cell_type": "code",
   "execution_count": 1,
   "metadata": {},
   "outputs": [],
   "source": [
    "## YOUR CODE HERE"
   ]
  },
  {
   "cell_type": "markdown",
   "metadata": {},
   "source": [
    "# Data Cleaning"
   ]
  },
  {
   "cell_type": "markdown",
   "metadata": {},
   "source": [
    "Describe your data cleaning steps here."
   ]
  },
  {
   "cell_type": "code",
   "execution_count": 2,
   "metadata": {},
   "outputs": [],
   "source": [
    "## YOUR CODE HERE\n",
    "## FEEL FREE TO ADD MULTIPLE CELLS PER SECTION"
   ]
  },
  {
   "cell_type": "markdown",
   "metadata": {},
   "source": [
    "# Data Analysis & Results"
   ]
  },
  {
   "cell_type": "markdown",
   "metadata": {},
   "source": [
    "Include cells that describe the steps in your data analysis."
   ]
  },
  {
   "cell_type": "code",
   "execution_count": 3,
   "metadata": {},
   "outputs": [],
   "source": [
    "## YOUR CODE HERE\n",
    "## FEEL FREE TO ADD MULTIPLE CELLS PER SECTION"
   ]
  },
  {
   "cell_type": "markdown",
   "metadata": {},
   "source": [
    "# Ethics & Privacy"
   ]
  },
  {
   "cell_type": "markdown",
   "metadata": {},
   "source": [
    "*Fill in your ethics & privacy discussion here*"
   ]
  },
  {
   "cell_type": "markdown",
   "metadata": {},
   "source": [
    "# Conclusion & Discussion"
   ]
  },
  {
   "cell_type": "markdown",
   "metadata": {},
   "source": [
    "*Fill in your discussion information here*"
   ]
  },
  {
   "cell_type": "markdown",
   "metadata": {},
   "source": [
    "# Team Contributions"
   ]
  },
  {
   "cell_type": "markdown",
   "metadata": {},
   "source": [
    "*Specify who in your group worked on which parts of the project.*"
   ]
  }
 ],
 "metadata": {
  "kernelspec": {
   "display_name": "Python 3",
   "language": "python",
   "name": "python3"
  },
  "language_info": {
   "codemirror_mode": {
    "name": "ipython",
    "version": 3
   },
   "file_extension": ".py",
   "mimetype": "text/x-python",
   "name": "python",
   "nbconvert_exporter": "python",
   "pygments_lexer": "ipython3",
   "version": "3.7.6"
  }
 },
 "nbformat": 4,
 "nbformat_minor": 2
}
