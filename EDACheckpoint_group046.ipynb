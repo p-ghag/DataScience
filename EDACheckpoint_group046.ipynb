{
 "cells": [
  {
   "cell_type": "markdown",
   "metadata": {},
   "source": [
    "# COGS 108 - EDA Checkpoint"
   ]
  },
  {
   "cell_type": "markdown",
   "metadata": {},
   "source": [
    "# Names\n",
    "\n",
    "- Sharon Chen\n",
    "- Pamela Ghag\n",
    "- Yuzi Chu\n",
    "- Cheng Chang\n",
    "- Stanley Hahm"
   ]
  },
  {
   "cell_type": "markdown",
   "metadata": {},
   "source": [
    "<a id='research_question'></a>\n",
    "# Research Question"
   ]
  },
  {
   "cell_type": "markdown",
   "metadata": {},
   "source": [
    "Are there significant differences among courses under the Humanities, Social Sciences, and STEM departments at UCSD in terms of the correlation between course difficulty (as indicated through average GPA) and teachers’ ratings on the student-feedback platforms (CAPE)?"
   ]
  },
  {
   "cell_type": "markdown",
   "metadata": {},
   "source": [
    "# Setup"
   ]
  },
  {
   "cell_type": "code",
   "execution_count": 55,
   "metadata": {},
   "outputs": [],
   "source": [
    "import pandas as pd\n",
    "import numpy as np\n",
    "import seaborn as sns\n",
    "import matplotlib.pyplot as plt\n",
    "import re\n",
    "\n",
    "# The seaborn library makes plots look nicer\n",
    "# sns.set(context = 'talk', style='white')\n",
    "\n",
    "# Round decimals when displaying DataFrames\n",
    "pd.set_option('precision', 2)\n",
    "\n",
    "# Make plots just slightly bigger for displaying well in notebook\n",
    "# set plotting size parameter\n",
    "plt.rcParams['figure.figsize'] = (10, 20)"
   ]
  },
  {
   "cell_type": "code",
   "execution_count": 56,
   "metadata": {},
   "outputs": [],
   "source": [
    "# Read in data\n",
    "cape = pd.read_csv(\"https://raw.githubusercontent.com/dcao/seascape/master/data/data.csv\")"
   ]
  },
  {
   "cell_type": "markdown",
   "metadata": {},
   "source": [
    "# Data Cleaning"
   ]
  },
  {
   "cell_type": "markdown",
   "metadata": {},
   "source": [
    "Since we do not want any data that may be influenced by the COVID-19 pandemic, we want to __drop evaluations made for school term WI20 and SP20__, the lastest 2 terms recorded in the dataset."
   ]
  },
  {
   "cell_type": "code",
   "execution_count": 57,
   "metadata": {},
   "outputs": [
    {
     "data": {
      "text/html": [
       "<div>\n",
       "<style scoped>\n",
       "    .dataframe tbody tr th:only-of-type {\n",
       "        vertical-align: middle;\n",
       "    }\n",
       "\n",
       "    .dataframe tbody tr th {\n",
       "        vertical-align: top;\n",
       "    }\n",
       "\n",
       "    .dataframe thead th {\n",
       "        text-align: right;\n",
       "    }\n",
       "</style>\n",
       "<table border=\"1\" class=\"dataframe\">\n",
       "  <thead>\n",
       "    <tr style=\"text-align: right;\">\n",
       "      <th></th>\n",
       "      <th>instr</th>\n",
       "      <th>course</th>\n",
       "      <th>term</th>\n",
       "      <th>enrolled</th>\n",
       "      <th>evals</th>\n",
       "      <th>recClass</th>\n",
       "      <th>recInstr</th>\n",
       "      <th>hours</th>\n",
       "      <th>gpaExp</th>\n",
       "      <th>gpaAvg</th>\n",
       "    </tr>\n",
       "  </thead>\n",
       "  <tbody>\n",
       "    <tr>\n",
       "      <th>0</th>\n",
       "      <td>Butler, Elizabeth Annette</td>\n",
       "      <td>AAS 10</td>\n",
       "      <td>FA20</td>\n",
       "      <td>65</td>\n",
       "      <td>29</td>\n",
       "      <td>89.0</td>\n",
       "      <td>96.0</td>\n",
       "      <td>4.50</td>\n",
       "      <td>3.77</td>\n",
       "      <td>3.33</td>\n",
       "    </tr>\n",
       "    <tr>\n",
       "      <th>1</th>\n",
       "      <td>Puritty, Chandler Elizabeth</td>\n",
       "      <td>AAS 190</td>\n",
       "      <td>FA20</td>\n",
       "      <td>19</td>\n",
       "      <td>5</td>\n",
       "      <td>100.0</td>\n",
       "      <td>100.0</td>\n",
       "      <td>2.10</td>\n",
       "      <td>4.00</td>\n",
       "      <td>NaN</td>\n",
       "    </tr>\n",
       "    <tr>\n",
       "      <th>2</th>\n",
       "      <td>Andrews, Abigail Leslie</td>\n",
       "      <td>AIP 197T</td>\n",
       "      <td>FA20</td>\n",
       "      <td>34</td>\n",
       "      <td>11</td>\n",
       "      <td>100.0</td>\n",
       "      <td>100.0</td>\n",
       "      <td>4.06</td>\n",
       "      <td>3.67</td>\n",
       "      <td>NaN</td>\n",
       "    </tr>\n",
       "    <tr>\n",
       "      <th>3</th>\n",
       "      <td>Jones, Ian William Nasser</td>\n",
       "      <td>ANAR 120</td>\n",
       "      <td>FA20</td>\n",
       "      <td>15</td>\n",
       "      <td>4</td>\n",
       "      <td>100.0</td>\n",
       "      <td>100.0</td>\n",
       "      <td>2.50</td>\n",
       "      <td>3.50</td>\n",
       "      <td>NaN</td>\n",
       "    </tr>\n",
       "    <tr>\n",
       "      <th>4</th>\n",
       "      <td>Smith, Neil Gordon</td>\n",
       "      <td>ANAR 121</td>\n",
       "      <td>FA20</td>\n",
       "      <td>17</td>\n",
       "      <td>6</td>\n",
       "      <td>100.0</td>\n",
       "      <td>100.0</td>\n",
       "      <td>6.50</td>\n",
       "      <td>4.00</td>\n",
       "      <td>NaN</td>\n",
       "    </tr>\n",
       "  </tbody>\n",
       "</table>\n",
       "</div>"
      ],
      "text/plain": [
       "                         instr    course  term  enrolled  evals  recClass  \\\n",
       "0    Butler, Elizabeth Annette    AAS 10  FA20        65     29      89.0   \n",
       "1  Puritty, Chandler Elizabeth   AAS 190  FA20        19      5     100.0   \n",
       "2      Andrews, Abigail Leslie  AIP 197T  FA20        34     11     100.0   \n",
       "3    Jones, Ian William Nasser  ANAR 120  FA20        15      4     100.0   \n",
       "4           Smith, Neil Gordon  ANAR 121  FA20        17      6     100.0   \n",
       "\n",
       "   recInstr  hours  gpaExp  gpaAvg  \n",
       "0      96.0   4.50    3.77    3.33  \n",
       "1     100.0   2.10    4.00     NaN  \n",
       "2     100.0   4.06    3.67     NaN  \n",
       "3     100.0   2.50    3.50     NaN  \n",
       "4     100.0   6.50    4.00     NaN  "
      ]
     },
     "execution_count": 57,
     "metadata": {},
     "output_type": "execute_result"
    }
   ],
   "source": [
    "cape = cape.drop(cape[(cape.term =='WI20') | (cape.term =='SP20')].index)\n",
    "cape.head()"
   ]
  },
  {
   "cell_type": "code",
   "execution_count": 58,
   "metadata": {
    "scrolled": false
   },
   "outputs": [
    {
     "data": {
      "text/html": [
       "<div>\n",
       "<style scoped>\n",
       "    .dataframe tbody tr th:only-of-type {\n",
       "        vertical-align: middle;\n",
       "    }\n",
       "\n",
       "    .dataframe tbody tr th {\n",
       "        vertical-align: top;\n",
       "    }\n",
       "\n",
       "    .dataframe thead th {\n",
       "        text-align: right;\n",
       "    }\n",
       "</style>\n",
       "<table border=\"1\" class=\"dataframe\">\n",
       "  <thead>\n",
       "    <tr style=\"text-align: right;\">\n",
       "      <th></th>\n",
       "      <th>enrolled</th>\n",
       "      <th>evals</th>\n",
       "      <th>recClass</th>\n",
       "      <th>recInstr</th>\n",
       "      <th>hours</th>\n",
       "      <th>gpaExp</th>\n",
       "      <th>gpaAvg</th>\n",
       "    </tr>\n",
       "  </thead>\n",
       "  <tbody>\n",
       "    <tr>\n",
       "      <th>count</th>\n",
       "      <td>48645.00</td>\n",
       "      <td>48645.00</td>\n",
       "      <td>48645.00</td>\n",
       "      <td>48645.00</td>\n",
       "      <td>48645.00</td>\n",
       "      <td>47295.00</td>\n",
       "      <td>34282.00</td>\n",
       "    </tr>\n",
       "    <tr>\n",
       "      <th>mean</th>\n",
       "      <td>76.62</td>\n",
       "      <td>39.25</td>\n",
       "      <td>88.73</td>\n",
       "      <td>88.99</td>\n",
       "      <td>5.61</td>\n",
       "      <td>3.52</td>\n",
       "      <td>3.23</td>\n",
       "    </tr>\n",
       "    <tr>\n",
       "      <th>std</th>\n",
       "      <td>86.22</td>\n",
       "      <td>47.60</td>\n",
       "      <td>12.63</td>\n",
       "      <td>14.63</td>\n",
       "      <td>2.58</td>\n",
       "      <td>0.32</td>\n",
       "      <td>0.40</td>\n",
       "    </tr>\n",
       "    <tr>\n",
       "      <th>min</th>\n",
       "      <td>1.00</td>\n",
       "      <td>3.00</td>\n",
       "      <td>0.00</td>\n",
       "      <td>0.00</td>\n",
       "      <td>0.00</td>\n",
       "      <td>1.33</td>\n",
       "      <td>1.21</td>\n",
       "    </tr>\n",
       "    <tr>\n",
       "      <th>25%</th>\n",
       "      <td>20.00</td>\n",
       "      <td>10.00</td>\n",
       "      <td>83.00</td>\n",
       "      <td>84.00</td>\n",
       "      <td>4.00</td>\n",
       "      <td>3.30</td>\n",
       "      <td>2.93</td>\n",
       "    </tr>\n",
       "    <tr>\n",
       "      <th>50%</th>\n",
       "      <td>40.00</td>\n",
       "      <td>20.00</td>\n",
       "      <td>92.00</td>\n",
       "      <td>94.00</td>\n",
       "      <td>5.30</td>\n",
       "      <td>3.50</td>\n",
       "      <td>3.22</td>\n",
       "    </tr>\n",
       "    <tr>\n",
       "      <th>75%</th>\n",
       "      <td>103.00</td>\n",
       "      <td>50.00</td>\n",
       "      <td>100.00</td>\n",
       "      <td>100.00</td>\n",
       "      <td>6.93</td>\n",
       "      <td>3.75</td>\n",
       "      <td>3.52</td>\n",
       "    </tr>\n",
       "    <tr>\n",
       "      <th>max</th>\n",
       "      <td>1064.00</td>\n",
       "      <td>509.00</td>\n",
       "      <td>100.00</td>\n",
       "      <td>100.00</td>\n",
       "      <td>20.50</td>\n",
       "      <td>4.00</td>\n",
       "      <td>4.00</td>\n",
       "    </tr>\n",
       "  </tbody>\n",
       "</table>\n",
       "</div>"
      ],
      "text/plain": [
       "       enrolled     evals  recClass  recInstr     hours    gpaExp    gpaAvg\n",
       "count  48645.00  48645.00  48645.00  48645.00  48645.00  47295.00  34282.00\n",
       "mean      76.62     39.25     88.73     88.99      5.61      3.52      3.23\n",
       "std       86.22     47.60     12.63     14.63      2.58      0.32      0.40\n",
       "min        1.00      3.00      0.00      0.00      0.00      1.33      1.21\n",
       "25%       20.00     10.00     83.00     84.00      4.00      3.30      2.93\n",
       "50%       40.00     20.00     92.00     94.00      5.30      3.50      3.22\n",
       "75%      103.00     50.00    100.00    100.00      6.93      3.75      3.52\n",
       "max     1064.00    509.00    100.00    100.00     20.50      4.00      4.00"
      ]
     },
     "execution_count": 58,
     "metadata": {},
     "output_type": "execute_result"
    }
   ],
   "source": [
    "cape.describe()"
   ]
  },
  {
   "cell_type": "markdown",
   "metadata": {},
   "source": [
    "An important method for us to estimate the difficulty of the courses is the average GPA received by the students; therefore, data with no \"gpaAvg\" does not seem helpful for our purposes. We want to __drop all rows with NaN in the column of average GPA__."
   ]
  },
  {
   "cell_type": "code",
   "execution_count": 59,
   "metadata": {
    "scrolled": true
   },
   "outputs": [
    {
     "data": {
      "text/html": [
       "<div>\n",
       "<style scoped>\n",
       "    .dataframe tbody tr th:only-of-type {\n",
       "        vertical-align: middle;\n",
       "    }\n",
       "\n",
       "    .dataframe tbody tr th {\n",
       "        vertical-align: top;\n",
       "    }\n",
       "\n",
       "    .dataframe thead th {\n",
       "        text-align: right;\n",
       "    }\n",
       "</style>\n",
       "<table border=\"1\" class=\"dataframe\">\n",
       "  <thead>\n",
       "    <tr style=\"text-align: right;\">\n",
       "      <th></th>\n",
       "      <th>enrolled</th>\n",
       "      <th>evals</th>\n",
       "      <th>recClass</th>\n",
       "      <th>recInstr</th>\n",
       "      <th>hours</th>\n",
       "      <th>gpaExp</th>\n",
       "      <th>gpaAvg</th>\n",
       "    </tr>\n",
       "  </thead>\n",
       "  <tbody>\n",
       "    <tr>\n",
       "      <th>count</th>\n",
       "      <td>34282.00</td>\n",
       "      <td>34282.00</td>\n",
       "      <td>34282.00</td>\n",
       "      <td>34282.00</td>\n",
       "      <td>34282.00</td>\n",
       "      <td>33940.00</td>\n",
       "      <td>34282.00</td>\n",
       "    </tr>\n",
       "    <tr>\n",
       "      <th>mean</th>\n",
       "      <td>100.02</td>\n",
       "      <td>51.10</td>\n",
       "      <td>87.32</td>\n",
       "      <td>87.20</td>\n",
       "      <td>5.80</td>\n",
       "      <td>3.46</td>\n",
       "      <td>3.23</td>\n",
       "    </tr>\n",
       "    <tr>\n",
       "      <th>std</th>\n",
       "      <td>91.57</td>\n",
       "      <td>51.61</td>\n",
       "      <td>12.22</td>\n",
       "      <td>14.85</td>\n",
       "      <td>2.35</td>\n",
       "      <td>0.29</td>\n",
       "      <td>0.40</td>\n",
       "    </tr>\n",
       "    <tr>\n",
       "      <th>min</th>\n",
       "      <td>20.00</td>\n",
       "      <td>3.00</td>\n",
       "      <td>0.00</td>\n",
       "      <td>0.00</td>\n",
       "      <td>0.50</td>\n",
       "      <td>1.60</td>\n",
       "      <td>1.21</td>\n",
       "    </tr>\n",
       "    <tr>\n",
       "      <th>25%</th>\n",
       "      <td>34.00</td>\n",
       "      <td>16.00</td>\n",
       "      <td>81.00</td>\n",
       "      <td>82.00</td>\n",
       "      <td>4.22</td>\n",
       "      <td>3.27</td>\n",
       "      <td>2.93</td>\n",
       "    </tr>\n",
       "    <tr>\n",
       "      <th>50%</th>\n",
       "      <td>63.00</td>\n",
       "      <td>32.00</td>\n",
       "      <td>90.00</td>\n",
       "      <td>92.00</td>\n",
       "      <td>5.39</td>\n",
       "      <td>3.46</td>\n",
       "      <td>3.22</td>\n",
       "    </tr>\n",
       "    <tr>\n",
       "      <th>75%</th>\n",
       "      <td>138.00</td>\n",
       "      <td>68.00</td>\n",
       "      <td>97.00</td>\n",
       "      <td>99.00</td>\n",
       "      <td>6.94</td>\n",
       "      <td>3.67</td>\n",
       "      <td>3.52</td>\n",
       "    </tr>\n",
       "    <tr>\n",
       "      <th>max</th>\n",
       "      <td>1064.00</td>\n",
       "      <td>509.00</td>\n",
       "      <td>100.00</td>\n",
       "      <td>100.00</td>\n",
       "      <td>20.33</td>\n",
       "      <td>4.00</td>\n",
       "      <td>4.00</td>\n",
       "    </tr>\n",
       "  </tbody>\n",
       "</table>\n",
       "</div>"
      ],
      "text/plain": [
       "       enrolled     evals  recClass  recInstr     hours    gpaExp    gpaAvg\n",
       "count  34282.00  34282.00  34282.00  34282.00  34282.00  33940.00  34282.00\n",
       "mean     100.02     51.10     87.32     87.20      5.80      3.46      3.23\n",
       "std       91.57     51.61     12.22     14.85      2.35      0.29      0.40\n",
       "min       20.00      3.00      0.00      0.00      0.50      1.60      1.21\n",
       "25%       34.00     16.00     81.00     82.00      4.22      3.27      2.93\n",
       "50%       63.00     32.00     90.00     92.00      5.39      3.46      3.22\n",
       "75%      138.00     68.00     97.00     99.00      6.94      3.67      3.52\n",
       "max     1064.00    509.00    100.00    100.00     20.33      4.00      4.00"
      ]
     },
     "execution_count": 59,
     "metadata": {},
     "output_type": "execute_result"
    }
   ],
   "source": [
    "cape = cape.dropna(subset=['gpaAvg'])\n",
    "cape.describe()"
   ]
  },
  {
   "cell_type": "markdown",
   "metadata": {},
   "source": [
    "Next, we __change column names__ so they are more similar and \"pythonic\"."
   ]
  },
  {
   "cell_type": "code",
   "execution_count": 60,
   "metadata": {
    "scrolled": true
   },
   "outputs": [
    {
     "name": "stdout",
     "output_type": "stream",
     "text": [
      "['instr', 'course', 'term', 'enrolled', 'eval', 'rec_class', 'rec_instr', 'hours', 'gpa_exp', 'gpa_rec']\n"
     ]
    }
   ],
   "source": [
    "col_name_map = {\n",
    "    \"evals\": \"eval\",\n",
    "    \"recClass\": \"rec_class\",\n",
    "    \"recInstr\": \"rec_instr\",\n",
    "    \"gpaExp\": \"gpa_exp\",\n",
    "    \"gpaAvg\": \"gpa_rec\"\n",
    "}\n",
    "cape = cape.rename(columns=col_name_map)\n",
    "print(list(cape.columns))"
   ]
  },
  {
   "cell_type": "markdown",
   "metadata": {},
   "source": [
    "As stated above, due to privacy concern, we would like to hide the name of the instructor and the course. Here we will first __map insturctor names to an ID and delete their names from the DataFrame__."
   ]
  },
  {
   "cell_type": "code",
   "execution_count": 61,
   "metadata": {
    "scrolled": false
   },
   "outputs": [
    {
     "data": {
      "text/html": [
       "<div>\n",
       "<style scoped>\n",
       "    .dataframe tbody tr th:only-of-type {\n",
       "        vertical-align: middle;\n",
       "    }\n",
       "\n",
       "    .dataframe tbody tr th {\n",
       "        vertical-align: top;\n",
       "    }\n",
       "\n",
       "    .dataframe thead th {\n",
       "        text-align: right;\n",
       "    }\n",
       "</style>\n",
       "<table border=\"1\" class=\"dataframe\">\n",
       "  <thead>\n",
       "    <tr style=\"text-align: right;\">\n",
       "      <th></th>\n",
       "      <th>instr</th>\n",
       "      <th>course</th>\n",
       "      <th>term</th>\n",
       "      <th>enrolled</th>\n",
       "      <th>eval</th>\n",
       "      <th>rec_class</th>\n",
       "      <th>rec_instr</th>\n",
       "      <th>hours</th>\n",
       "      <th>gpa_exp</th>\n",
       "      <th>gpa_rec</th>\n",
       "    </tr>\n",
       "  </thead>\n",
       "  <tbody>\n",
       "    <tr>\n",
       "      <th>0</th>\n",
       "      <td>I_457</td>\n",
       "      <td>AAS 10</td>\n",
       "      <td>FA20</td>\n",
       "      <td>65</td>\n",
       "      <td>29</td>\n",
       "      <td>89.0</td>\n",
       "      <td>96.0</td>\n",
       "      <td>4.50</td>\n",
       "      <td>3.77</td>\n",
       "      <td>3.33</td>\n",
       "    </tr>\n",
       "    <tr>\n",
       "      <th>1</th>\n",
       "      <td>I_758</td>\n",
       "      <td>ANAR 146</td>\n",
       "      <td>FA20</td>\n",
       "      <td>41</td>\n",
       "      <td>16</td>\n",
       "      <td>100.0</td>\n",
       "      <td>100.0</td>\n",
       "      <td>4.00</td>\n",
       "      <td>3.81</td>\n",
       "      <td>3.79</td>\n",
       "    </tr>\n",
       "    <tr>\n",
       "      <th>2</th>\n",
       "      <td>I_1099</td>\n",
       "      <td>ANBI 118</td>\n",
       "      <td>FA20</td>\n",
       "      <td>20</td>\n",
       "      <td>15</td>\n",
       "      <td>93.0</td>\n",
       "      <td>100.0</td>\n",
       "      <td>2.77</td>\n",
       "      <td>3.67</td>\n",
       "      <td>3.77</td>\n",
       "    </tr>\n",
       "    <tr>\n",
       "      <th>3</th>\n",
       "      <td>I_3175</td>\n",
       "      <td>ANBI 136</td>\n",
       "      <td>FA20</td>\n",
       "      <td>22</td>\n",
       "      <td>15</td>\n",
       "      <td>66.0</td>\n",
       "      <td>73.0</td>\n",
       "      <td>5.17</td>\n",
       "      <td>3.27</td>\n",
       "      <td>2.99</td>\n",
       "    </tr>\n",
       "    <tr>\n",
       "      <th>4</th>\n",
       "      <td>I_1137</td>\n",
       "      <td>ANBI 141</td>\n",
       "      <td>FA20</td>\n",
       "      <td>117</td>\n",
       "      <td>53</td>\n",
       "      <td>100.0</td>\n",
       "      <td>100.0</td>\n",
       "      <td>3.75</td>\n",
       "      <td>3.70</td>\n",
       "      <td>3.87</td>\n",
       "    </tr>\n",
       "  </tbody>\n",
       "</table>\n",
       "</div>"
      ],
      "text/plain": [
       "    instr    course  term  enrolled  eval  rec_class  rec_instr  hours  \\\n",
       "0   I_457    AAS 10  FA20        65    29       89.0       96.0   4.50   \n",
       "1   I_758  ANAR 146  FA20        41    16      100.0      100.0   4.00   \n",
       "2  I_1099  ANBI 118  FA20        20    15       93.0      100.0   2.77   \n",
       "3  I_3175  ANBI 136  FA20        22    15       66.0       73.0   5.17   \n",
       "4  I_1137  ANBI 141  FA20       117    53      100.0      100.0   3.75   \n",
       "\n",
       "   gpa_exp  gpa_rec  \n",
       "0     3.77     3.33  \n",
       "1     3.81     3.79  \n",
       "2     3.67     3.77  \n",
       "3     3.27     2.99  \n",
       "4     3.70     3.87  "
      ]
     },
     "execution_count": 61,
     "metadata": {},
     "output_type": "execute_result"
    }
   ],
   "source": [
    "# Change all instructor names to lower cases\n",
    "cape[\"instr\"] = cape[\"instr\"].apply(lambda name: name.lower())\n",
    "\n",
    "# Make a list of unique instructor name and IDs\n",
    "instr_names = cape[\"instr\"].unique()\n",
    "instr_names.sort()\n",
    "instr_ids = [(\"I_\" + str(x)) for x in range(len(instr_names))]\n",
    "\n",
    "# Make a map of names and IDs\n",
    "instr_id_map = {n:i for (n,i) in zip(instr_names, instr_ids)}\n",
    "\n",
    "# Switch instructor names to IDs\n",
    "cape[\"instr\"] = cape[\"instr\"].apply(lambda name: instr_id_map[name])\n",
    "\n",
    "# Reset DataFrame index\n",
    "cape = cape.reset_index(drop=True)\n",
    "\n",
    "cape.head()\n"
   ]
  },
  {
   "cell_type": "markdown",
   "metadata": {},
   "source": [
    "We need to change course names to IDs later, as we __need to classify the disciplines (Humanities, Social Science, STEM) they belongs to__. This will be done in EDA."
   ]
  },
  {
   "cell_type": "code",
   "execution_count": 62,
   "metadata": {},
   "outputs": [
    {
     "data": {
      "text/plain": [
       "array(['AAS', 'ANAR', 'ANBI', 'ANSC', 'ANTH', 'AWP', 'BENG', 'BIBC',\n",
       "       'BICD', 'BIEB', 'BILD', 'BIMM', 'BIPN', 'BISP', 'CAT', 'CENG',\n",
       "       'CGS', 'CHEM', 'CHIN', 'COGS', 'COMM', 'CSE', 'CSS', 'DOC', 'DSC',\n",
       "       'DSGN', 'ECE', 'ECON', 'EDS', 'ENG', 'ENVR', 'ESYS', 'ETHN',\n",
       "       'FMPH', 'GLBH', 'HDS', 'HIAF', 'HIEA', 'HIEU', 'HILA', 'HILD',\n",
       "       'HINE', 'HISC', 'HITO', 'HIUS', 'HUM', 'INTL', 'JAPN', 'LATI',\n",
       "       'LIGN', 'LTAM', 'LTCH', 'LTCS', 'LTEA', 'LTEN', 'LTEU', 'LTFR',\n",
       "       'LTGM', 'LTLA', 'LTRU', 'LTSP', 'LTTH', 'LTWL', 'LTWR', 'MAE',\n",
       "       'MATH', 'MGT', 'MMW', 'MUS', 'NANO', 'PHIL', 'PHYS', 'POLI',\n",
       "       'PSYC', 'RELI', 'SE', 'SIO', 'SOCI', 'TDAC', 'TDDE', 'TDDM',\n",
       "       'TDDR', 'TDGE', 'TDHT', 'TDMV', 'TDPR', 'TDTR', 'TWS', 'USP',\n",
       "       'VIS', 'WCWP', 'CCS', 'LIHL', 'LTGK', 'LTIT', 'HDP', 'LAWS',\n",
       "       'LTKO', 'ERC', 'TDPW', 'TDPF', 'ELWR', 'FPMU', 'ICAM', 'TDHD',\n",
       "       'JUDA', 'HMNR', 'COCU', 'COGN', 'COHI', 'COMT', 'COSF', 'TDCH',\n",
       "       'TMC', 'LTAF', 'SOCE', 'STPA', 'SOCA', 'SOCB', 'SOCC', 'SOCD',\n",
       "       'SOCL'], dtype=object)"
      ]
     },
     "execution_count": 62,
     "metadata": {},
     "output_type": "execute_result"
    }
   ],
   "source": [
    "# takes out number in class course name so only class department\n",
    "def class_department(str_in):\n",
    "    # takes out number\n",
    "    class_dep = re.sub(r'\\d+', '', str_in)\n",
    "    \n",
    "    # takes out any extra letter. I.e. 'CHEM A' --> 'CHEM'\n",
    "    class_dep_split = class_dep.split()\n",
    "    class_dep = class_dep_split[0]\n",
    "    return class_dep\n",
    "\n",
    "# use class_department to change all courses to fit only department\n",
    "cape['course'] = cape['course'].apply(class_department)\n",
    "\n",
    "# display all types of courses\n",
    "cape['course'].unique()"
   ]
  },
  {
   "cell_type": "code",
   "execution_count": 63,
   "metadata": {},
   "outputs": [],
   "source": [
    "#SOME OF THESE MAJORS HAVE DIFFERENT DEPARTMENT NAMES BUT SAME MAJOR\n",
    "#ex: Anthroplogy = 'ANAR', 'ANBI', 'ANSC', 'ANTH'\n",
    "\n",
    "#ones I'm kinda off about: 'DSGN', 'ENVR', 'ESYS', 'MMW', 'SIO'\n",
    "#error: 'ERC', 'TMC'?? why are colleges on here?\n",
    "\n",
    "#list of STEM majors\n",
    "stem = ['BENG', 'BIBC', 'BICD', 'BIEB', 'BILD', 'BIMM', 'BIPN', \n",
    "        'BISP', 'CENG', 'CHEM', 'CHIN', 'CSE', 'DSC', 'ECE', \n",
    "        'ENVR', 'ESYS', 'FMPH', 'GLBH', 'HDS', 'MAE', 'MATH',\n",
    "        'NANO', 'PHYS', 'SE', 'SIO', 'FPMU']\n",
    "\n",
    "#list of social science majors\n",
    "social_sci = ['ANAR', 'ANBI', 'ANSC', 'ANTH', 'CGS', 'COGS', \n",
    "              'CSS','DSGN', 'ECON', 'EDS', 'ETHN', 'HIAF', 'HIEA'\n",
    "              'HIEU','HILA', 'HILD', 'HINE', 'HISC', 'HITO', \n",
    "              'HIUS', 'INTL', 'MGT', 'MWW',  'POLI', 'PSYC', 'SOCI'\n",
    "              'TWS', 'USP', 'CCS', 'HDP', 'LAWS', 'HMNR', 'COGN',\n",
    "              'SOCE', 'STPA', 'SOCA', 'SOCB', 'SOCC', 'SOCD','SOCL']\n",
    "\n",
    "#list of humanities majors\n",
    "hum = ['AAS', 'AWP', 'CAT', 'COMM', 'DOC', 'ENG', 'HUM', 'JAPN', \n",
    "       'LATI', 'LIGN', 'LTAM', 'LTCH', 'LTCS', 'LTEA', 'LTEN', \n",
    "       'LTEU', 'LTFR', 'LTGM', 'LTLA', 'LTRU', 'LTSP', 'LTTH', \n",
    "       'LTWL', 'LTWR', 'MUS', 'PHIL', 'RELI', 'TDAC', 'TDDE', 'TDDM'\n",
    "       'TDDR', 'TDGE', 'TDHT', 'TDMV', 'TDPR', 'TDTR', 'VIS', 'WCWP'\n",
    "       'LIHL', 'LTGK', 'LTIT', 'LTKO', 'ERC', 'TDPW', 'TDPF', 'ELWR'\n",
    "       'ICAM', 'TDHD', 'JUDA', 'COCU', 'COHI', 'COMT', 'COSF', \n",
    "       'TDCH', 'TMC', 'LTAF']"
   ]
  },
  {
   "cell_type": "code",
   "execution_count": 64,
   "metadata": {},
   "outputs": [
    {
     "data": {
      "text/html": [
       "<div>\n",
       "<style scoped>\n",
       "    .dataframe tbody tr th:only-of-type {\n",
       "        vertical-align: middle;\n",
       "    }\n",
       "\n",
       "    .dataframe tbody tr th {\n",
       "        vertical-align: top;\n",
       "    }\n",
       "\n",
       "    .dataframe thead th {\n",
       "        text-align: right;\n",
       "    }\n",
       "</style>\n",
       "<table border=\"1\" class=\"dataframe\">\n",
       "  <thead>\n",
       "    <tr style=\"text-align: right;\">\n",
       "      <th></th>\n",
       "      <th>instr</th>\n",
       "      <th>course</th>\n",
       "      <th>term</th>\n",
       "      <th>enrolled</th>\n",
       "      <th>eval</th>\n",
       "      <th>rec_class</th>\n",
       "      <th>rec_instr</th>\n",
       "      <th>hours</th>\n",
       "      <th>gpa_exp</th>\n",
       "      <th>gpa_rec</th>\n",
       "      <th>stem</th>\n",
       "      <th>social_sci</th>\n",
       "      <th>hum</th>\n",
       "    </tr>\n",
       "  </thead>\n",
       "  <tbody>\n",
       "    <tr>\n",
       "      <th>0</th>\n",
       "      <td>I_457</td>\n",
       "      <td>AAS</td>\n",
       "      <td>FA20</td>\n",
       "      <td>65</td>\n",
       "      <td>29</td>\n",
       "      <td>89.0</td>\n",
       "      <td>96.0</td>\n",
       "      <td>4.50</td>\n",
       "      <td>3.77</td>\n",
       "      <td>3.33</td>\n",
       "      <td>False</td>\n",
       "      <td>False</td>\n",
       "      <td>True</td>\n",
       "    </tr>\n",
       "    <tr>\n",
       "      <th>1</th>\n",
       "      <td>I_758</td>\n",
       "      <td>ANAR</td>\n",
       "      <td>FA20</td>\n",
       "      <td>41</td>\n",
       "      <td>16</td>\n",
       "      <td>100.0</td>\n",
       "      <td>100.0</td>\n",
       "      <td>4.00</td>\n",
       "      <td>3.81</td>\n",
       "      <td>3.79</td>\n",
       "      <td>False</td>\n",
       "      <td>True</td>\n",
       "      <td>False</td>\n",
       "    </tr>\n",
       "    <tr>\n",
       "      <th>2</th>\n",
       "      <td>I_1099</td>\n",
       "      <td>ANBI</td>\n",
       "      <td>FA20</td>\n",
       "      <td>20</td>\n",
       "      <td>15</td>\n",
       "      <td>93.0</td>\n",
       "      <td>100.0</td>\n",
       "      <td>2.77</td>\n",
       "      <td>3.67</td>\n",
       "      <td>3.77</td>\n",
       "      <td>False</td>\n",
       "      <td>True</td>\n",
       "      <td>False</td>\n",
       "    </tr>\n",
       "    <tr>\n",
       "      <th>3</th>\n",
       "      <td>I_3175</td>\n",
       "      <td>ANBI</td>\n",
       "      <td>FA20</td>\n",
       "      <td>22</td>\n",
       "      <td>15</td>\n",
       "      <td>66.0</td>\n",
       "      <td>73.0</td>\n",
       "      <td>5.17</td>\n",
       "      <td>3.27</td>\n",
       "      <td>2.99</td>\n",
       "      <td>False</td>\n",
       "      <td>True</td>\n",
       "      <td>False</td>\n",
       "    </tr>\n",
       "    <tr>\n",
       "      <th>4</th>\n",
       "      <td>I_1137</td>\n",
       "      <td>ANBI</td>\n",
       "      <td>FA20</td>\n",
       "      <td>117</td>\n",
       "      <td>53</td>\n",
       "      <td>100.0</td>\n",
       "      <td>100.0</td>\n",
       "      <td>3.75</td>\n",
       "      <td>3.70</td>\n",
       "      <td>3.87</td>\n",
       "      <td>False</td>\n",
       "      <td>True</td>\n",
       "      <td>False</td>\n",
       "    </tr>\n",
       "  </tbody>\n",
       "</table>\n",
       "</div>"
      ],
      "text/plain": [
       "    instr course  term  enrolled  eval  rec_class  rec_instr  hours  gpa_exp  \\\n",
       "0   I_457    AAS  FA20        65    29       89.0       96.0   4.50     3.77   \n",
       "1   I_758   ANAR  FA20        41    16      100.0      100.0   4.00     3.81   \n",
       "2  I_1099   ANBI  FA20        20    15       93.0      100.0   2.77     3.67   \n",
       "3  I_3175   ANBI  FA20        22    15       66.0       73.0   5.17     3.27   \n",
       "4  I_1137   ANBI  FA20       117    53      100.0      100.0   3.75     3.70   \n",
       "\n",
       "   gpa_rec   stem  social_sci    hum  \n",
       "0     3.33  False       False   True  \n",
       "1     3.79  False        True  False  \n",
       "2     3.77  False        True  False  \n",
       "3     2.99  False        True  False  \n",
       "4     3.87  False        True  False  "
      ]
     },
     "execution_count": 64,
     "metadata": {},
     "output_type": "execute_result"
    }
   ],
   "source": [
    "# make new column for determining if class is STEM\n",
    "stem_pattern = '|'.join(stem)\n",
    "cape['stem'] = cape['course'].str.contains(stem_pattern, na=False)\n",
    "\n",
    "# make new column for determining if class is social science\n",
    "social_sci_pattern = '|'.join(social_sci)\n",
    "cape['social_sci'] = cape['course'].str.contains(social_sci_pattern, na=False)\n",
    "\n",
    "# make new column for determining if class is humanities\n",
    "hum_pattern = '|'.join(hum)\n",
    "cape['hum'] = cape['course'].str.contains(hum_pattern, na=False)\n",
    "cape.head()\n"
   ]
  },
  {
   "cell_type": "code",
   "execution_count": 65,
   "metadata": {},
   "outputs": [
    {
     "data": {
      "text/html": [
       "<div>\n",
       "<style scoped>\n",
       "    .dataframe tbody tr th:only-of-type {\n",
       "        vertical-align: middle;\n",
       "    }\n",
       "\n",
       "    .dataframe tbody tr th {\n",
       "        vertical-align: top;\n",
       "    }\n",
       "\n",
       "    .dataframe thead th {\n",
       "        text-align: right;\n",
       "    }\n",
       "</style>\n",
       "<table border=\"1\" class=\"dataframe\">\n",
       "  <thead>\n",
       "    <tr style=\"text-align: right;\">\n",
       "      <th></th>\n",
       "      <th>instr</th>\n",
       "      <th>course</th>\n",
       "      <th>term</th>\n",
       "      <th>enrolled</th>\n",
       "      <th>eval</th>\n",
       "      <th>rec_class</th>\n",
       "      <th>rec_instr</th>\n",
       "      <th>hours</th>\n",
       "      <th>gpa_exp</th>\n",
       "      <th>gpa_rec</th>\n",
       "      <th>stem</th>\n",
       "      <th>social_sci</th>\n",
       "      <th>hum</th>\n",
       "    </tr>\n",
       "  </thead>\n",
       "  <tbody>\n",
       "    <tr>\n",
       "      <th>0</th>\n",
       "      <td>I_457</td>\n",
       "      <td>AAS</td>\n",
       "      <td>FA20</td>\n",
       "      <td>65</td>\n",
       "      <td>29</td>\n",
       "      <td>89.0</td>\n",
       "      <td>96.0</td>\n",
       "      <td>4.50</td>\n",
       "      <td>3.77</td>\n",
       "      <td>3.33</td>\n",
       "      <td>False</td>\n",
       "      <td>False</td>\n",
       "      <td>True</td>\n",
       "    </tr>\n",
       "    <tr>\n",
       "      <th>20</th>\n",
       "      <td>I_626</td>\n",
       "      <td>AWP</td>\n",
       "      <td>FA20</td>\n",
       "      <td>40</td>\n",
       "      <td>34</td>\n",
       "      <td>97.0</td>\n",
       "      <td>100.0</td>\n",
       "      <td>5.85</td>\n",
       "      <td>3.39</td>\n",
       "      <td>2.88</td>\n",
       "      <td>False</td>\n",
       "      <td>False</td>\n",
       "      <td>True</td>\n",
       "    </tr>\n",
       "    <tr>\n",
       "      <th>21</th>\n",
       "      <td>I_1023</td>\n",
       "      <td>AWP</td>\n",
       "      <td>FA20</td>\n",
       "      <td>41</td>\n",
       "      <td>38</td>\n",
       "      <td>78.0</td>\n",
       "      <td>97.0</td>\n",
       "      <td>6.87</td>\n",
       "      <td>2.88</td>\n",
       "      <td>2.19</td>\n",
       "      <td>False</td>\n",
       "      <td>False</td>\n",
       "      <td>True</td>\n",
       "    </tr>\n",
       "    <tr>\n",
       "      <th>22</th>\n",
       "      <td>I_1228</td>\n",
       "      <td>AWP</td>\n",
       "      <td>FA20</td>\n",
       "      <td>42</td>\n",
       "      <td>36</td>\n",
       "      <td>91.0</td>\n",
       "      <td>100.0</td>\n",
       "      <td>6.56</td>\n",
       "      <td>3.15</td>\n",
       "      <td>2.45</td>\n",
       "      <td>False</td>\n",
       "      <td>False</td>\n",
       "      <td>True</td>\n",
       "    </tr>\n",
       "    <tr>\n",
       "      <th>23</th>\n",
       "      <td>I_1415</td>\n",
       "      <td>AWP</td>\n",
       "      <td>FA20</td>\n",
       "      <td>42</td>\n",
       "      <td>35</td>\n",
       "      <td>94.0</td>\n",
       "      <td>97.0</td>\n",
       "      <td>5.76</td>\n",
       "      <td>3.35</td>\n",
       "      <td>2.58</td>\n",
       "      <td>False</td>\n",
       "      <td>False</td>\n",
       "      <td>True</td>\n",
       "    </tr>\n",
       "  </tbody>\n",
       "</table>\n",
       "</div>"
      ],
      "text/plain": [
       "     instr course  term  enrolled  eval  rec_class  rec_instr  hours  gpa_exp  \\\n",
       "0    I_457    AAS  FA20        65    29       89.0       96.0   4.50     3.77   \n",
       "20   I_626    AWP  FA20        40    34       97.0      100.0   5.85     3.39   \n",
       "21  I_1023    AWP  FA20        41    38       78.0       97.0   6.87     2.88   \n",
       "22  I_1228    AWP  FA20        42    36       91.0      100.0   6.56     3.15   \n",
       "23  I_1415    AWP  FA20        42    35       94.0       97.0   5.76     3.35   \n",
       "\n",
       "    gpa_rec   stem  social_sci   hum  \n",
       "0      3.33  False       False  True  \n",
       "20     2.88  False       False  True  \n",
       "21     2.19  False       False  True  \n",
       "22     2.45  False       False  True  \n",
       "23     2.58  False       False  True  "
      ]
     },
     "execution_count": 65,
     "metadata": {},
     "output_type": "execute_result"
    }
   ],
   "source": [
    "#make a dataset w/ only STEM classes\n",
    "cape_stem = cape[cape['stem'] == True]\n",
    "\n",
    "#make a dataset w/ only social science classes\n",
    "cape_social_sci = cape[cape['social_sci'] == True]\n",
    "\n",
    "#make a dataset w/ only humanities classes\n",
    "cape_hum = cape[cape['hum'] == True]\n",
    "\n",
    "cape_hum.head()"
   ]
  },
  {
   "cell_type": "markdown",
   "metadata": {},
   "source": [
    "# Data Analysis & Results (EDA)"
   ]
  },
  {
   "cell_type": "markdown",
   "metadata": {},
   "source": [
    "Carry out EDA on your dataset(s); Describe in this section"
   ]
  },
  {
   "cell_type": "code",
   "execution_count": 66,
   "metadata": {
    "scrolled": true
   },
   "outputs": [
    {
     "data": {
      "text/plain": [
       "<seaborn.axisgrid.FacetGrid at 0x1ba3f3d3c70>"
      ]
     },
     "execution_count": 66,
     "metadata": {},
     "output_type": "execute_result"
    },
    {
     "data": {
      "image/png": "[encoded data removed]",
      "text/plain": [
       "<Figure size 360x360 with 1 Axes>"
      ]
     },
     "metadata": {
      "needs_background": "light"
     },
     "output_type": "display_data"
    }
   ],
   "source": [
    "# Check the correlation between gpa_rec and rec_instr for STEM classes\n",
    "sns.lmplot(x='gpa_rec', y='rec_instr', data=cape_stem)"
   ]
  },
  {
   "cell_type": "code",
   "execution_count": 26,
   "metadata": {},
   "outputs": [
    {
     "data": {
      "text/plain": [
       "<seaborn.axisgrid.FacetGrid at 0x1ba3b7b7490>"
      ]
     },
     "execution_count": 26,
     "metadata": {},
     "output_type": "execute_result"
    },
    {
     "data": {
      "image/png": "[encoded data removed]",
      "text/plain": [
       "<Figure size 360x360 with 1 Axes>"
      ]
     },
     "metadata": {
      "needs_background": "light"
     },
     "output_type": "display_data"
    }
   ],
   "source": [
    "# Check the correlation between gpa_rec and rec_instr for social \n",
    "# science classes\n",
    "sns.lmplot(x='gpa_rec', y='rec_instr', data=cape_social_sci)"
   ]
  },
  {
   "cell_type": "code",
   "execution_count": 27,
   "metadata": {},
   "outputs": [
    {
     "data": {
      "text/plain": [
       "<seaborn.axisgrid.FacetGrid at 0x1ba3bbdf1f0>"
      ]
     },
     "execution_count": 27,
     "metadata": {},
     "output_type": "execute_result"
    },
    {
     "data": {
      "image/png": "[encoded data removed]",
      "text/plain": [
       "<Figure size 360x360 with 1 Axes>"
      ]
     },
     "metadata": {
      "needs_background": "light"
     },
     "output_type": "display_data"
    }
   ],
   "source": [
    "## YOUR CODE HERE\n",
    "## FEEL FREE TO ADD MULTIPLE CELLS PER SECTION"
   ]
  }
 ],
 "metadata": {
  "kernelspec": {
   "display_name": "Python 3",
   "language": "python",
   "name": "python3"
  },
  "language_info": {
   "codemirror_mode": {
    "name": "ipython",
    "version": 3
   },
   "file_extension": ".py",
   "mimetype": "text/x-python",
   "name": "python",
   "nbconvert_exporter": "python",
   "pygments_lexer": "ipython3",
   "version": "3.8.5"
  }
 },
 "nbformat": 4,
 "nbformat_minor": 2
}
